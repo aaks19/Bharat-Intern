{
 "cells": [
  {
   "cell_type": "code",
   "execution_count": 1,
   "id": "69a64184",
   "metadata": {},
   "outputs": [],
   "source": [
    "# import spell checker "
   ]
  },
  {
   "cell_type": "code",
   "execution_count": 1,
   "id": "6557ed56",
   "metadata": {},
   "outputs": [],
   "source": [
    "from spellchecker import SpellChecker"
   ]
  },
  {
   "cell_type": "code",
   "execution_count": 2,
   "id": "11520d82",
   "metadata": {},
   "outputs": [],
   "source": [
    "spell = SpellChecker()"
   ]
  },
  {
   "cell_type": "code",
   "execution_count": 3,
   "id": "3504877b",
   "metadata": {},
   "outputs": [
    {
     "name": "stdout",
     "output_type": "stream",
     "text": [
      "buay sume frueits fr me from marakat\n",
      "correct sentence/word is:\n",
      "buy some fruits for me from market\n"
     ]
    }
   ],
   "source": [
    "text = input()\n",
    "ls = list(text.split(\" \"))\n",
    "l=[]\n",
    "for words in ls:\n",
    "    check = spell.correction(words)\n",
    "    l.append(check)\n",
    "res = ' '.join([str(elem) for elem in l])\n",
    "print(\"correct sentence/word is:\")\n",
    "print(res)"
   ]
  },
  {
   "cell_type": "code",
   "execution_count": null,
   "id": "e8801574",
   "metadata": {},
   "outputs": [],
   "source": []
  }
 ],
 "metadata": {
  "kernelspec": {
   "display_name": "Python 3 (ipykernel)",
   "language": "python",
   "name": "python3"
  },
  "language_info": {
   "codemirror_mode": {
    "name": "ipython",
    "version": 3
   },
   "file_extension": ".py",
   "mimetype": "text/x-python",
   "name": "python",
   "nbconvert_exporter": "python",
   "pygments_lexer": "ipython3",
   "version": "3.9.6"
  }
 },
 "nbformat": 4,
 "nbformat_minor": 5
}
